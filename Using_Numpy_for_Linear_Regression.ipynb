{
  "cells": [
    {
      "cell_type": "markdown",
      "metadata": {
        "colab_type": "text",
        "id": "view-in-github"
      },
      "source": [
        "<a href=\"https://colab.research.google.com/github/AbdulRauf96/Machine_Learning/blob/main/Using_Numpy_for_Linear_Regression.ipynb\" target=\"_parent\"><img src=\"https://colab.research.google.com/assets/colab-badge.svg\" alt=\"Open In Colab\"/></a>"
      ]
    },
    {
      "attachments": {},
      "cell_type": "markdown",
      "metadata": {
        "id": "oKSiHFO-RXYy"
      },
      "source": [
        "#### Import Libaries"
      ]
    },
    {
      "cell_type": "code",
      "execution_count": 2,
      "metadata": {
        "id": "pERKN3vipxlX"
      },
      "outputs": [],
      "source": [
        "#import the package\n",
        "import numpy as np\n",
        "import matplotlib.pyplot as plt\n",
        "%matplotlib inline\n",
        "\n",
        "plt.rcParams['figure.figsize'] = (10, 6)"
      ]
    },
    {
      "cell_type": "code",
      "execution_count": 3,
      "metadata": {
        "colab": {
          "base_uri": "https://localhost:8080/",
          "height": 36
        },
        "id": "lEwO0HdUdSx7",
        "outputId": "3712ee17-0fbe-4ab5-a975-afcc3f99d7e2"
      },
      "outputs": [
        {
          "data": {
            "text/plain": [
              "'1.24.2'"
            ]
          },
          "execution_count": 3,
          "metadata": {},
          "output_type": "execute_result"
        }
      ],
      "source": [
        "np.__version__"
      ]
    },
    {
      "cell_type": "markdown",
      "metadata": {
        "id": "XaaPAsXxdZiN"
      },
      "source": [
        "# <font color = 'dodgerblue'>  **Linear Regression** </font>\n",
        "1. Linear regression is a linear approach to modelling the relationship between a **dependent variable** and one or more **independent variables**.\n",
        "2.  Representation of Linear regression  \n",
        "  $y \\approx \\theta_0 + \\theta_1x_1$\n",
        "  \n",
        "  where,\n",
        "\n",
        "  $y$ is a dependent variable\n",
        "  \n",
        "  $x_1, x_2$ are independent variables\n",
        "  \n",
        "  $\\theta_0, \\theta_1x_1, \\theta_2$ are parameters \n",
        "  \n",
        "    \n",
        "3. We are given $y, x_1, x_2$. We need to estimate the parameters $\\theta_0, \\theta_1$  .\n",
        " "
      ]
    },
    {
      "cell_type": "markdown",
      "metadata": {
        "id": "AGB2vARJWk3I"
      },
      "source": [
        "# <font color = 'dodgerblue'> **Gradient descent** </font>\n",
        "\n",
        "1. Gradient descent is the backbone of the machine learning. \n",
        "2. It is an optimization process which is used to train the models in the machine learning.\n",
        "3. Gradient descent is an optimization algorithm used to find the values of parameters (coefficients) of a function (f) that minimizes a cost function (cost).\n",
        "4. A gradient simply measures the change in all weights with regard to the change in error.\n",
        "\n",
        "5. Let's check the following explaination of the gradient descent and how we use it as follows:"
      ]
    },
    {
      "cell_type": "markdown",
      "metadata": {
        "id": "QoVeG8i4neFT"
      },
      "source": [
        "# <font color = 'dodgerblue'>  **Create a dataset**\n",
        "\n"
      ]
    },
    {
      "cell_type": "markdown",
      "metadata": {
        "id": "Xm-IcTflRO6M"
      },
      "source": [
        "## <font color = 'dodgerblue'>  **Task1: Generate independent variable (X)**"
      ]
    },
    {
      "cell_type": "markdown",
      "metadata": {
        "id": "UVMb7JBZVp-S"
      },
      "source": [
        "\n",
        "* Generate $\\boldsymbol{X}$ by darwing samples from unifrom distribution \n",
        "* The shape of $\\boldsymbol{X}$ should be (100, 2). This means we will have 100 observations and 2 variables. Column 1 represents $\\mathbf{x_1}$ and column 2 represents $\\mathbf{x_2}$ \n",
        "* All values in matrix $\\mathbf{X}$ should lie between 0 and 5 (Hint if we use random.rand(), it will give you values from uniform distribution. However the values will lie between 0 and 1\n",
        "\n"
      ]
    },
    {
      "cell_type": "code",
      "execution_count": 4,
      "metadata": {
        "colab": {
          "base_uri": "https://localhost:8080/"
        },
        "id": "AotwuADKnTor",
        "outputId": "be5937d6-4f86-4fb6-b5d0-813ace8b7504"
      },
      "outputs": [
        {
          "name": "stdout",
          "output_type": "stream",
          "text": [
            "[[3.48234593 1.43069667]\n",
            " [1.13425727 2.75657385]\n",
            " [3.59734485 2.1155323 ]\n",
            " [4.90382099 3.42414869]\n",
            " [2.40465951 1.96058759]]\n",
            "(100, 2)\n"
          ]
        }
      ],
      "source": [
        "np.random.seed(seed=123) # pleasse do not change this \n",
        "\n",
        "# genrate X\n",
        "X = np.random.uniform(0, 5, (100,2))\n",
        "# Print first five values of X\n",
        "print(X[0:5])\n",
        "print(X.shape)"
      ]
    },
    {
      "cell_type": "markdown",
      "metadata": {
        "id": "RJZmvRw5K97C"
      },
      "source": [
        "## <font color = 'dodgerblue'> **Task2: Generate Dependent Varianble (Y)**"
      ]
    },
    {
      "cell_type": "markdown",
      "metadata": {
        "id": "8D3VuR7DMQEh"
      },
      "source": [
        " : $\\theta_0$ = 2 , $\\theta_1$ = 5  , $\\theta_2$ = 3 <br> \n",
        "Generate y using following :\n",
        "$\\mathbf{y} = \\theta_0 + \\theta_1 \\mathbf{x_1} + \\theta_2 \\mathbf{x_2} + noise$\n",
        "\n",
        "where noise is a random normal array of shape (100, 1)"
      ]
    },
    {
      "cell_type": "code",
      "execution_count": 5,
      "metadata": {
        "colab": {
          "base_uri": "https://localhost:8080/"
        },
        "id": "bXFggpQ2NLAo",
        "outputId": "bfeb3134-a2e6-43e3-c0aa-2c83bf09cb56"
      },
      "outputs": [
        {
          "name": "stdout",
          "output_type": "stream",
          "text": [
            "(100, 1)\n",
            "(100, 1)\n",
            "[[22.61818906]\n",
            " [16.93835332]\n",
            " [26.61629964]\n",
            " [35.28525632]\n",
            " [19.32646006]]\n"
          ]
        }
      ],
      "source": [
        "np.random.seed(seed=123) # pleasse do not change this \n",
        "theta0 = 2\n",
        "theta1 = 5\n",
        "theta2 = 3\n",
        "# use np.random.randn to get 100 values from nornal distribution. The array should have the shape (100, 1)\n",
        "noise = np.random.randn(100,1)\n",
        "\n",
        "# use array slicing to get x1 and x2 from X; x1 is the first column and x2 is the second column of  X\n",
        "\n",
        "# check the shape of x1 and x2. The shape should be (100, 1) i.e. it should have two dimensions\n",
        "# If the shape is not (100, 1) then reshape x1 and x2 to have shape (100, 1)\n",
        "\n",
        "x1 =X[:,0]\n",
        "x2 =X[:,1]\n",
        "x1 = x1.reshape(-1,1)\n",
        "x2= x2.reshape(-1,1)\n",
        "print(x1.shape)\n",
        "print(x2.shape)\n",
        "\n",
        "# use formulae y = theta0 + theta1 * x1 + theta2 * x2 + noise\n",
        "y = theta0 + (theta1 * x1) + (theta2 * x2) + noise \n",
        "\n",
        "# Print first five values of y\n",
        "print(y[0:5]) "
      ]
    },
    {
      "cell_type": "markdown",
      "metadata": {
        "id": "a70b9WxdRVM4"
      },
      "source": [
        "# <font color = 'dodgerblue'> Visualize the Data"
      ]
    },
    {
      "cell_type": "markdown",
      "metadata": {
        "id": "WOOgc7vfqMe5"
      },
      "source": [
        "* Here we are using matplotlib's package pyplot module to visualize the data points. We will further discuss about this package in our course.\n",
        "* The main aim for visualizing a data is to understand the data to check the outliers, spread, correlation of the data etc. which will be discussed later on."
      ]
    },
    {
      "cell_type": "code",
      "execution_count": 6,
      "metadata": {
        "colab": {
          "base_uri": "https://localhost:8080/",
          "height": 308
        },
        "id": "VLH_Q7tcqQdx",
        "outputId": "5a8f423e-7f6d-435d-9008-661bc733ef90"
      },
      "outputs": [
        {
          "data": {
            "image/png": "[encoded data removed]",
            "text/plain": [
              "<Figure size 1000x600 with 2 Axes>"
            ]
          },
          "metadata": {},
          "output_type": "display_data"
        }
      ],
      "source": [
        "# Let's plot the values of X and y \n",
        "# Let's use the scatter plot graph\n",
        "fig, (ax1, ax2) = plt.subplots(1, 2)\n",
        "fig.suptitle('Relationship between X and y')\n",
        "ax1.scatter(x1, y)\n",
        "ax2.scatter(x2, y)\n",
        "ax1.set_xlabel('x1')\n",
        "ax1.set_ylabel('y')\n",
        "ax2.set_xlabel('x2')\n",
        "#It is used to show the graph\n",
        "plt.show();"
      ]
    },
    {
      "attachments": {},
      "cell_type": "markdown",
      "metadata": {
        "id": "BUzzqteV70ht"
      },
      "source": [
        "# <font color = 'dodgerblue'>  Predicted Value of Dependent Variable (Y) </font>\n",
        "We can estimate the predicted value of y for a particular instance (observation) using following equation:\n",
        "\n",
        "$ \\hat{y} = \\theta_0 + \\theta_1x_1 + \\theta_2x_2  + \\cdot\\cdot\\cdot+ \\theta_nx_n$\n",
        "\n",
        "In this equation:<br>\n",
        "$\\hat{y}$ is the predicted value of $y$.<br>\n",
        "$n$ is the number of features (independent variables).<br>\n",
        "$x_i$ is the ith feature value.<br>\n",
        "$\\theta_j$ is the $j^{th}$ model parameter.\n",
        "\n",
        "\n",
        "We can write this in vectorized form as follows <br><br>\n",
        "$\\hat{y} = h_{\\theta}(\\mathbf{x}) = \\boldsymbol{\\theta}^Tx = \\begin{bmatrix}\n",
        "\\theta_0 \\theta_1\\cdot\\cdot\\cdot\\theta_n\\end{bmatrix} \\begin{bmatrix}\n",
        "x_0 \\\\ x_1 \\\\ \\cdot \\\\ \\cdot \\\\ \\cdot\\ \\\\ x_n\\end{bmatrix}= \n",
        " \\boldsymbol{\\theta} \\cdot \\mathbf{x} $\n",
        "\n",
        "Here <br>\n",
        "$\\boldsymbol{\\theta}$ is vector of model parameters <br>\n",
        "$\\mathbf{x}$ is the instance’s feature vector, containing $x_0 $ to $x_n$, with $x_0$  always equal to 1. <br>\n",
        "$\\boldsymbol{\\theta} \\cdot \\mathbf{x}$ is the dot product of the vectors $\\boldsymbol{\\theta}$ and $\\mathbf{x}$ which is equal to $\\theta_0x_0 + \\theta_1x_1 +\\cdot \\cdot \\cdot \\theta_nx_n$\n",
        "\n",
        "The training examples are stored in matrix $\\boldsymbol{X}$ row-wise <br><br>\n",
        "$\\boldsymbol{X} =  \\begin{bmatrix}\n",
        "x_0^{(1)}x_1^{(1)}\\cdot\\cdot\\cdot x_n^{(1)} \\\\ x_0^{(2)}x_1^{(2)}\\cdot\\cdot\\cdot x_n^{(2)}  \\\\ \\cdot \\\\ \\cdot \\\\ \\cdot\\ \\\\ x_0^{(m)}x_1^{(m)}\\cdot\\cdot\\cdot x_n^{(m)} \\end{bmatrix}$ , $ \\boldsymbol{\\theta} =\\begin{bmatrix}\n",
        "\\theta_0 \\\\ \\theta_1 \\\\ \\cdot \\\\ \\cdot \\\\ \\cdot \\\\ \\theta_n\\end{bmatrix}$.\n",
        "\n",
        "We can calculale the predicted values of y for all m observations using follwoing:\n",
        "\n",
        "$h_{\\theta}(\\boldsymbol{X}) = \\boldsymbol{X} \\boldsymbol{\\theta}$\n",
        "where $\\boldsymbol{X} \\boldsymbol{\\theta}$ is matrix multiplication of $\\boldsymbol{X}$ and $\\boldsymbol{\\theta}$ \n",
        "\n",
        "\n",
        "\n",
        "\n"
      ]
    },
    {
      "attachments": {},
      "cell_type": "markdown",
      "metadata": {
        "id": "Ak92OUMsBDS2"
      },
      "source": [
        "# <font color = 'dodgerblue'>  **Task3: Cost Function (Mean Sum of Squares)** </font>\n",
        "\n",
        "* The cost function is defined as sum of the squares of the difference between predicted values and avtual values of $y$.\n",
        "* The equation for calculating cost function is shown below.\n",
        "* The cost function for other algorithm will be different and the gradients are always derived from the cost functions.\n",
        "\n",
        "* Our main aim is to get the predicted line ($\\hat{y}$) such that the total distance from alll the points (actual $y$ values) is minimized i.e. we want to find a line tha best fits our dataset.<br>\n",
        "\n",
        "<img src=\"https://drive.google.com/uc?export=view&id=1YxklCQcCLKD3GiSa7ZQPW734DQkdC4hO\" width=\"400\"/>\n",
        "\n",
        "<b>Cost function Formulae</b>\n",
        "\\begin{equation}\n",
        "J(\\theta) = 1/2m \\sum_{i=1}^{m} (\\hat{y}^{(i)} - y^{(i)})^2 \n",
        "\\end{equation}\n",
        "\n",
        "here $m$ is number of observations\n",
        "\n",
        "* Let's define a cost function by following the mentioned steps below.\n",
        "*  It's fine if we don't know the concept completely. Its just for numpy practice exercise.\n",
        "* We will be discussing about cost functions and gradient descents in our future lectures. "
      ]
    },
    {
      "cell_type": "code",
      "execution_count": 7,
      "metadata": {
        "id": "-ahcF-FUq4c6"
      },
      "outputs": [],
      "source": [
        "def calculate_cost(X, y, theta):\n",
        "  \"\"\"\n",
        "  In this function we will calculate the cost value by using the above formula\n",
        "  J()=1/2m∑(prediction−y)^(2)\n",
        "  where m = number of y values (number of observations)\n",
        "  we know that,\n",
        "  prediction = xθ (matrix multiplication of X and θ )\n",
        "\n",
        "  \"\"\"\n",
        "  # Find the length of the y by using np.size() method and equate it to m\n",
        "  # calculate 1/(2*m) and assign it to 'a'.\n",
        "  # calculate Xθ (matrix multiplication of X and theta) and assign it to prediction\n",
        "  # Find the difference between predictions and y and assign it to error\n",
        "  # Square the error by using np.square() method and assign it to square_error\n",
        "  # Use sum() method of numpy to caculate the sum of square_error. Assign it to b\n",
        "  # Now multiply a, b and assign it to J.\n",
        "\n",
        "  m = np.size(y)\n",
        "  a = 1/(2*m) \n",
        "  prediction = np.matmul(X,theta)\n",
        "  error = np.subtract(prediction,y)\n",
        "  square_error = np.square(error)\n",
        "  b = np.sum(square_error)\n",
        "  J = a*b\n",
        "  \n",
        "  return J"
      ]
    },
    {
      "cell_type": "markdown",
      "metadata": {
        "id": "OdsTmC994mFb"
      },
      "source": [
        "# <font color = 'dodgerblue'>  **Task4: Feature Scaling - Scaling at absolute maximum** </font>\n",
        "\n",
        "1. Feature sacling is one of the important step in the many machine learning models.\n",
        "2. We actually compress our input variable into smaller and similar magnitude for faster calculations.\n",
        "3. Scaling is a technique to seggregate the date between 0 to 1.\n",
        "\n",
        "$X_{scaled} = \\dfrac{X}{max(abs(X))}$\n",
        "\n"
      ]
    },
    {
      "cell_type": "code",
      "execution_count": 8,
      "metadata": {
        "colab": {
          "base_uri": "https://localhost:8080/"
        },
        "id": "CfXdcMNj4cKN",
        "outputId": "895442cc-90e0-46d5-82b8-963785eabd75"
      },
      "outputs": [
        {
          "name": "stdout",
          "output_type": "stream",
          "text": [
            "[[0.70813816 0.28747365]\n",
            " [0.23065223 0.55388564]\n",
            " [0.7315233  0.42507947]\n",
            " [0.99719639 0.68802321]\n",
            " [0.48898966 0.39394603]]\n"
          ]
        }
      ],
      "source": [
        "# Use the above formulae to calculate X_scaled\n",
        "# Hint (Since X is a matrix, we will need to be careful in specifying axis for max opeartion)\n",
        "\n",
        "X_scaled =  X/np.max(np.absolute(X),axis = 0)\n",
        "\n",
        "# print first five values of normalized X2 * X\n",
        "print(X_scaled[0:5])"
      ]
    },
    {
      "cell_type": "markdown",
      "metadata": {
        "id": "ps_Z1v_3GWoK"
      },
      "source": [
        "# <font color = 'dodgerblue'>  **Task5: Initialize the parameter**\n",
        "Since, we have created the cost function. Now we will be assigning some values to the parameter and call the cost function."
      ]
    },
    {
      "cell_type": "code",
      "execution_count": 9,
      "metadata": {
        "colab": {
          "base_uri": "https://localhost:8080/"
        },
        "id": "YQdwHcKoGkPO",
        "outputId": "57cd3f3b-03ba-48bf-ca3d-39b4e889c763"
      },
      "outputs": [
        {
          "name": "stdout",
          "output_type": "stream",
          "text": [
            "(100, 2)\n",
            "[[1.         0.70813816 0.28747365]\n",
            " [1.         0.23065223 0.55388564]\n",
            " [1.         0.7315233  0.42507947]\n",
            " [1.         0.99719639 0.68802321]\n",
            " [1.         0.48898966 0.39394603]]\n",
            "[[0.]\n",
            " [0.]\n",
            " [0.]]\n",
            "(100, 3)\n",
            "(3, 1)\n"
          ]
        }
      ],
      "source": [
        "# initializing parameter\n",
        "# check the shape of the X_scaled (X Scaled)\n",
        "# if the shape of the X_scaled is (100,2) then we won't reshape\n",
        "# If the shape of the X_scaled is not (100,2) then Reshape the X_scaled variable as (100, 2)\n",
        "# We take an additional value in X i.e a column of ones\n",
        "# Create a numpy array of ones with shape (100, 1) and assign it to X_ones\n",
        "# Use hstack to combine the X_ones and X_scaled and assign it to X_b\n",
        "# Create a numpy array of zeros with shape (3, 1) and assign it to theta \n",
        "# this represents the initial value of theta1, theta2 and theta3\n",
        "# print first five rows of X_b \n",
        "# print theta\n",
        "# print shape of X_b (shape should be (100, 3)\n",
        "# print shape of theta (shape should be (3, 1))\n",
        "\n",
        "print(X_scaled.shape) # Print shape of xscaled (the shape should be (100, 2))\n",
        "X_ones =  np.ones((100,1))\n",
        "X_b = np.hstack((X_ones,X_scaled))\n",
        "\n",
        "theta = np.zeros((3,1))\n",
        "\n",
        "print(X_b[0:5]) # print first five rows of X_b and \n",
        "print(theta) # print theta\n",
        "print(X_b.shape) # print shape of X_b (shape should be (100, 3)\n",
        "print(theta.shape) # print shape of theta (shape should be (3, 1))\n"
      ]
    },
    {
      "cell_type": "markdown",
      "metadata": {
        "id": "uxMp5y55JJsT"
      },
      "source": [
        "Now our aim is to reduce this initial cost value further, so that we can achieve the optimal linear fit for our data. This initial cost value corresponds to initial zero value for  $\\theta_0$, $\\theta_1$ and $\\theta_2$. We need to find values of  $\\theta_0$, $\\theta_1$  and $\\theta_2$ for which the cost function is minimized."
      ]
    },
    {
      "attachments": {},
      "cell_type": "markdown",
      "metadata": {
        "id": "hIJiBipH0azJ"
      },
      "source": [
        "# <font color = 'dodgerblue'>  **Task6: Gradient descent** </font>\n",
        "Gradient descend is a one such algorithm used to find the optimal parameter ‘theta’ using the given parameters ,\n",
        "\n",
        "**x** — Input values\n",
        "\n",
        "**y** — output values\n",
        "\n",
        "**Initial_theta** — in most cases consdiered as NULL theta\n",
        "\n",
        "**alpha** — alpha is the learning rate. \n",
        "\n",
        "**iteration** — setting how many iteration it should take\n",
        "\n",
        "<b> Understanding “Gradinet Desecnd” may require bit of calculus , but it is not necessary for this exercise. We will provide you exact formulae to implement gradient descent using numpy. </b><br><br>\n",
        "\n",
        "Further explaination of the gradient descent is given below :-\n",
        "\n",
        "<b>Gradient descent for the cost function</b>\n",
        "\n",
        "First we calculate the partial derivative of parameter $(\\theta_j)$ with respect to cost ($J$). This is called the gradient. For our cost finction the partial derivative (gradient is as follows):\n",
        "\n",
        "\\begin{equation}\n",
        "\\frac{\\partial J(\\theta)}{\\partial \\theta_j} = 1/m\\sum_{i=1}^{m}(\\hat{y}^{(i)} - y^{(i)}) \\cdot x_j^{(i)}\n",
        "\\end{equation}\n",
        "\n",
        "Gradient Descent Algorithm: Repeat until convergence (usually we will use finite number of iterations):\n",
        "\\begin{equation}\n",
        "\\theta_j: = \\theta_j -\\alpha \\cdot \\frac{\\partial J(\\theta)}{\\partial \\theta_j} \n",
        "\\end{equation}\n",
        "\n",
        "So basically we start with some initial values of $\\theta_j$ and use the above equation to update the value of $\\theta_j$ until convergence.\n",
        "\n",
        "\n",
        "In our case we will repeatedly (= number of interations) update the values of $\\theta_0, \\theta_1$, and $\\theta_2$ using the following equations:\n",
        "\n",
        "The algorithm starts with some “initial guess” for θ, and then repeatedly\n",
        "changes θ to make J(θ) smaller, until we converge to a value of\n",
        "θ that minimizes J(θ).\n",
        "\n",
        "\\begin{equation}\n",
        "\\theta_0: = \\theta_0 -\\frac{\\alpha} {m}  (\\sum_{i=1}^{m}(\\hat{y}^{(i)} - y^{(i)}).x_0^{(i)})\n",
        "\\end{equation}\n",
        "\\begin{equation}\n",
        "\\theta_1: = \\theta_1 -\\frac{\\alpha} {m}  (\\sum_{i=1}^{m}(\\hat{y}^{(i)} - y^{(i)}).x_1^{(i)})\n",
        "\\end{equation}\n",
        "\\begin{equation}\n",
        "\\theta_2: = \\theta_2 -\\alpha . (1/m .\\sum_{i=1}^{m}(\\hat{y}{(i)} - y^{(i)}).x_2^{(i)})\n",
        "\\end{equation}\n",
        "\n",
        "We can write these equations using following vector form:\n",
        "\n",
        "<!-- $$\n",
        "\\begin{equation}\n",
        "\\theta := \\theta - \\frac{\\alpha} {m}\\boldsymbol{X}^T(\\boldsymbol{X}\\theta - y)\n",
        "\\end\\{equation}\n",
        "$$ -->\n",
        "\n",
        "here<br><br>\n",
        "$\\theta = \\begin{bmatrix}\n",
        "\\theta_0 \\\\ \\theta_1 \\\\ \\theta_2\\end{bmatrix}$ <br><br>\n",
        "$\\boldsymbol{X}^T$ is the transpose of X\n",
        "\n",
        "\n"
      ]
    },
    {
      "cell_type": "code",
      "execution_count": 10,
      "metadata": {
        "id": "GBVhLQkYzwz7"
      },
      "outputs": [],
      "source": [
        "def gradient_descent(X, y, theta):\n",
        "    '''\n",
        "    We can use the above formula of gradient descent and deduce the steps as follows:\n",
        "    We will initialize the alpha and iteration values as 0.2, 500 respectively.\n",
        "   '''\n",
        "    # Find the length of the y by using size() method and equate it to m\n",
        "    # calculate Xθ (matrix multiplication of X and theta) and assign it to prediction\n",
        "    # calculate prediction - y and assign it to error\n",
        "    # Perfrom the matrix multiplication of X^T (transpose of X) and error and assign it to b\n",
        "    # multiply b with 1/m and assign it to gradient\n",
        "    # update theta using : theta = theta - alpha* gradient\n",
        "\n",
        "    \n",
        "    alpha = 0.2\n",
        "    iterations = 500\n",
        "    m = y.size\n",
        "    \n",
        "\n",
        "    # The for loop will execute till 500 iterations\n",
        "    for iter in range(0, iterations):\n",
        "          \n",
        "          prediction = np.matmul(X,theta)\n",
        "          error =  prediction - y\n",
        "          b =   np.matmul(X.T,error)\n",
        "          gradient =  b * 1/m\n",
        "          theta = theta - alpha * gradient\n",
        "\n",
        "    return theta   "
      ]
    },
    {
      "cell_type": "markdown",
      "metadata": {
        "id": "166pTgRA21dr"
      },
      "source": [
        "Let's use gradient function for our data :\n"
      ]
    },
    {
      "cell_type": "code",
      "execution_count": 13,
      "metadata": {
        "colab": {
          "base_uri": "https://localhost:8080/"
        },
        "id": "tj2Tjb5bTS98",
        "outputId": "8de53a6d-2953-4275-a516-50666c9a62bd"
      },
      "outputs": [
        {
          "name": "stdout",
          "output_type": "stream",
          "text": [
            " The optimal values for theta is : \n",
            " [[ 2.72082712]\n",
            " [23.06735392]\n",
            " [15.07231658]]\n",
            "\n",
            "The original cost was \n",
            " 267.56848618947276\n",
            "The minimum cost by using gradient descent is \n",
            " 0.5658340056883197\n"
          ]
        }
      ],
      "source": [
        "# Call the gardient descent function using (X_b, y and theta) as inputs\n",
        "# make sure you use X_b as the input and not X\n",
        "theta_optimized = gradient_descent(X_b, y, theta)\n",
        "\n",
        "# Call the cost function - (X_b, y and theta_optimized) as inputs\n",
        "original_cost = calculate_cost(X_b, y, theta)\n",
        "min_cost = calculate_cost(X_b, y, theta_optimized)\n",
        "\n",
        "# print the optimal values of theta (theta_optimized)\n",
        "print(f\" The optimal values for theta is : \\n {theta_optimized}\\n\")\n",
        "\n",
        "# Print the minimum value of the ocst\n",
        "print(f\"The original cost was \\n {original_cost}\")\n",
        "print(f\"The minimum cost by using gradient descent is \\n {min_cost}\")"
      ]
    },
    {
      "attachments": {},
      "cell_type": "markdown",
      "metadata": {
        "id": "1EAI1Xn-IxGQ"
      },
      "source": [
        "# <font color = 'dodgerblue'> **Optional Bonus question:** </font>\n",
        "We used gardient descent to find the parameters in linear regression. Gradient descent is a genric algorithn which can be applied to other cost functins as well. The solution to linear regression can also be obtained directly using following normal equation:\n",
        "\n",
        "\\begin{equation}\n",
        "\\theta = {(\\boldsymbol{X}^T\\boldsymbol{X})}^{-1}\\boldsymbol{X}^Ty\n",
        "\\end{equation}\n",
        "\n",
        "Here ${X}^T$ is transpose of X, and \n",
        "${(\\boldsymbol{X}^T\\boldsymbol{X})}^{-1}$ is inverse of matrix ${(\\boldsymbol{X}^T\\boldsymbol{X})}$\n"
      ]
    },
    {
      "cell_type": "code",
      "execution_count": 13,
      "metadata": {
        "colab": {
          "base_uri": "https://localhost:8080/"
        },
        "id": "HaJQZUmxdIpG",
        "outputId": "c9d11a17-39aa-4c8a-f81a-27ac8e9066dc"
      },
      "outputs": [
        {
          "data": {
            "text/plain": [
              "array([[346337.74233486],\n",
              "       [180632.50930642],\n",
              "       [186865.26433125]])"
            ]
          },
          "execution_count": 13,
          "metadata": {},
          "output_type": "execute_result"
        }
      ],
      "source": [
        "# Let us check the solutions using normal equation:\n",
        "# When implementing the above qeuation use X_b and not X\n",
        "\n",
        "theta_normal_equation = np.matmul(np.matmul(np.matmul(X_b.T,X_b).T,X_b.T),y)\n",
        "# print theta_normal_equation\n",
        "theta_normal_equation"
      ]
    }
  ],
  "metadata": {
    "colab": {
      "include_colab_link": true,
      "machine_shape": "hm",
      "provenance": []
    },
    "kernelspec": {
      "display_name": "Python 3",
      "name": "python3"
    },
    "language_info": {
      "codemirror_mode": {
        "name": "ipython",
        "version": 3
      },
      "file_extension": ".py",
      "mimetype": "text/x-python",
      "name": "python",
      "nbconvert_exporter": "python",
      "pygments_lexer": "ipython3",
      "version": "3.9.16"
    }
  },
  "nbformat": 4,
  "nbformat_minor": 0
}
