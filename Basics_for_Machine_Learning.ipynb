{
  "cells": [
    {
      "cell_type": "markdown",
      "metadata": {
        "id": "view-in-github",
        "colab_type": "text"
      },
      "source": [
        "<a href=\"https://colab.research.google.com/github/AbdulRauf96/Machine_Learning/blob/main/Basics_for_Machine_Learning.ipynb\" target=\"_parent\"><img src=\"https://colab.research.google.com/assets/colab-badge.svg\" alt=\"Open In Colab\"/></a>"
      ]
    },
    {
      "cell_type": "markdown",
      "metadata": {
        "id": "vY0sAXv8nWpH"
      },
      "source": [
        "## Q1: split() function - 1/2 Point\n",
        "Split the sentence below into list of words (1 Point)"
      ]
    },
    {
      "cell_type": "code",
      "execution_count": null,
      "metadata": {
        "collapsed": true,
        "jupyter": {
          "outputs_hidden": true
        },
        "id": "Rb0wo6m6nWpI"
      },
      "outputs": [],
      "source": [
        "sentence = 'This is a basic python assignment'"
      ]
    },
    {
      "cell_type": "code",
      "source": [
        "sentence.split()"
      ],
      "metadata": {
        "id": "UK8Ky-dLyXXS",
        "outputId": "811c7777-1925-45c6-932c-bf5fae7ee0c9",
        "colab": {
          "base_uri": "https://localhost:8080/"
        }
      },
      "execution_count": null,
      "outputs": [
        {
          "output_type": "execute_result",
          "data": {
            "text/plain": [
              "['This', 'is', 'a', 'basic', 'python', 'assignment']"
            ]
          },
          "metadata": {},
          "execution_count": 4
        }
      ]
    },
    {
      "cell_type": "code",
      "execution_count": null,
      "metadata": {
        "colab": {
          "base_uri": "https://localhost:8080/"
        },
        "id": "CXdcLB-nnWpI",
        "outputId": "e7e8ad26-26c1-47b1-ce67-04a7971c90a8"
      },
      "outputs": [
        {
          "output_type": "execute_result",
          "data": {
            "text/plain": [
              "['This', 'is', 'a', 'basic', 'python', 'assignment']"
            ]
          },
          "metadata": {},
          "execution_count": 3
        }
      ],
      "source": [
        "# Do not RUN/MODIFY this cell. This tells you how your solution should look like"
      ]
    },
    {
      "cell_type": "markdown",
      "metadata": {
        "id": "_DQgig_rnWpJ"
      },
      "source": [
        "## Q2 print using f-string literals - 1/2 Point\n",
        "\n",
        "**Given the variables:**\n",
        "\n",
        "```\n",
        "course = 'Machine Learning'\n",
        "lec_num = 1\n",
        "```\n",
        "Print the sentence\n",
        "\n",
        "```\n",
        "This is lecture 1 of Machine Learning\n",
        "```"
      ]
    },
    {
      "cell_type": "code",
      "execution_count": null,
      "metadata": {
        "collapsed": true,
        "jupyter": {
          "outputs_hidden": true
        },
        "id": "lX4r7xGynWpJ"
      },
      "outputs": [],
      "source": [
        "course  = \"Machine Learning\"\n",
        "lec_num   = 1"
      ]
    },
    {
      "cell_type": "code",
      "source": [
        "print(f'This is lecture {lec_num} of {course}')"
      ],
      "metadata": {
        "id": "34ed87uEytNK",
        "colab": {
          "base_uri": "https://localhost:8080/"
        },
        "outputId": "9d61433b-96bf-46f3-e644-d08a879f1af8"
      },
      "execution_count": null,
      "outputs": [
        {
          "output_type": "stream",
          "name": "stdout",
          "text": [
            "This is lecture 1 of Machine Learning\n"
          ]
        }
      ]
    },
    {
      "cell_type": "code",
      "execution_count": null,
      "metadata": {
        "colab": {
          "base_uri": "https://localhost:8080/"
        },
        "id": "UfJ7LTxbnWpJ",
        "outputId": "38c788cb-4397-4f6b-8ebc-f6e2de1eeb35"
      },
      "outputs": [
        {
          "output_type": "stream",
          "name": "stdout",
          "text": [
            "This is lecture 1 of Machine Learning\n"
          ]
        }
      ],
      "source": [
        "# Do not RUN/MODIFY this cell. This tells you how your solution should look like"
      ]
    },
    {
      "cell_type": "markdown",
      "metadata": {
        "id": "C7BCqfIunWpK"
      },
      "source": [
        "## Q3 Indexing for nested list - 2.5 Points\n",
        "\n",
        "Use indexing to get only the word `python` from nested list"
      ]
    },
    {
      "cell_type": "code",
      "execution_count": null,
      "metadata": {
        "collapsed": true,
        "jupyter": {
          "outputs_hidden": true
        },
        "id": "pbe3iNoTnWpK"
      },
      "outputs": [],
      "source": [
        "nested_list = [10,9,[4,'hi'],['good',[10,99,['python is easy', 'c++ is hard']],45,15],12,107]"
      ]
    },
    {
      "cell_type": "code",
      "source": [
        "nested_list[3][1][2][0][0:6]"
      ],
      "metadata": {
        "id": "KCd0s8ANywTn",
        "colab": {
          "base_uri": "https://localhost:8080/",
          "height": 36
        },
        "outputId": "52e18f4f-c520-4918-e9c9-6d11d3df8c55"
      },
      "execution_count": null,
      "outputs": [
        {
          "output_type": "execute_result",
          "data": {
            "text/plain": [
              "'python'"
            ],
            "application/vnd.google.colaboratory.intrinsic+json": {
              "type": "string"
            }
          },
          "metadata": {},
          "execution_count": 26
        }
      ]
    },
    {
      "cell_type": "code",
      "execution_count": null,
      "metadata": {
        "colab": {
          "base_uri": "https://localhost:8080/",
          "height": 36
        },
        "id": "nOBEuSfDnWpK",
        "outputId": "414a2a03-92b4-4328-f1ee-7021a98a2926"
      },
      "outputs": [
        {
          "output_type": "execute_result",
          "data": {
            "text/plain": [
              "'python'"
            ],
            "application/vnd.google.colaboratory.intrinsic+json": {
              "type": "string"
            }
          },
          "metadata": {},
          "execution_count": 15
        }
      ],
      "source": [
        "# Do not RUN/MODIFY this cell. This tells you how your solution should look like"
      ]
    },
    {
      "cell_type": "markdown",
      "metadata": {
        "id": "WcVd_hiHnWpK"
      },
      "source": [
        "## Q4  Update Dictionary - 1/2 Point\n",
        "In the dictionary below , change the course number of ML course from 6341 to 6341.ss1"
      ]
    },
    {
      "cell_type": "code",
      "execution_count": null,
      "metadata": {
        "id": "j7_aY7KOnWpL"
      },
      "outputs": [],
      "source": [
        "course_dict = {'Course Name': ['NLP', 'ML', 'DL'], 'Course Number': ['6342', '6341', '6382']}"
      ]
    },
    {
      "cell_type": "code",
      "source": [
        "course_dict['Course Number'][1] = '6341.ss1'"
      ],
      "metadata": {
        "id": "5VPaleYutNqy"
      },
      "execution_count": null,
      "outputs": []
    },
    {
      "cell_type": "code",
      "source": [
        "course_dict['Course Number']"
      ],
      "metadata": {
        "id": "y-EQRoLgsclI",
        "colab": {
          "base_uri": "https://localhost:8080/"
        },
        "outputId": "af5f4e0c-07fd-41d3-c688-271846c97e18"
      },
      "execution_count": null,
      "outputs": [
        {
          "output_type": "execute_result",
          "data": {
            "text/plain": [
              "['6342', '6341.ss1', '6382']"
            ]
          },
          "metadata": {},
          "execution_count": 35
        }
      ]
    },
    {
      "cell_type": "code",
      "source": [
        "# Do not RUN/MODIFY this cell. This tells you how your solution should look like"
      ],
      "metadata": {
        "colab": {
          "base_uri": "https://localhost:8080/"
        },
        "id": "cG7u_2B1ta-9",
        "outputId": "68b75a05-ee70-40a0-e4c3-062d60e864e3"
      },
      "execution_count": null,
      "outputs": [
        {
          "output_type": "execute_result",
          "data": {
            "text/plain": [
              "{'Course Name': ['NLP', 'ML', 'DL'],\n",
              " 'Course Number': ['6342', '6341.ss1', '6382']}"
            ]
          },
          "metadata": {},
          "execution_count": 25
        }
      ]
    },
    {
      "cell_type": "markdown",
      "metadata": {
        "id": "qsHCjwshnWpM"
      },
      "source": [
        "## Q5 List Comprehension and Function - 3 Points\n",
        "\n",
        "Create a function that get all the occurences of the word python (account for capitalization) in a string. You are not allowed to use for loop. (Hint - Use list comprehension. Search how you can use if statement in list comprehension.)"
      ]
    },
    {
      "cell_type": "code",
      "execution_count": null,
      "metadata": {
        "id": "YWA2oGZGnWpN"
      },
      "outputs": [],
      "source": [
        "def list_python(input_string):\n",
        "  list1 = [x for x in [x.lower() for x in input_string.split()] if x == 'python']\n",
        "  return list1"
      ]
    },
    {
      "cell_type": "code",
      "source": [
        "# string to check your function\n",
        "input_string = 'Python is wasy. I can learn python in one month'"
      ],
      "metadata": {
        "id": "oSK5RqCvy4N4"
      },
      "execution_count": null,
      "outputs": []
    },
    {
      "cell_type": "code",
      "source": [
        "# Run this cell and make sure that your solution matches the solution shown below\n",
        "list_python(input_string)"
      ],
      "metadata": {
        "id": "8PPOwQXEzK-h",
        "colab": {
          "base_uri": "https://localhost:8080/"
        },
        "outputId": "d9ef5f8d-5390-49fc-9acc-d2bc7d820c3d"
      },
      "execution_count": null,
      "outputs": [
        {
          "output_type": "execute_result",
          "data": {
            "text/plain": [
              "['python', 'python']"
            ]
          },
          "metadata": {},
          "execution_count": 62
        }
      ]
    },
    {
      "cell_type": "code",
      "execution_count": null,
      "metadata": {
        "colab": {
          "base_uri": "https://localhost:8080/"
        },
        "id": "fKhFK6D5nWpN",
        "outputId": "f2615408-5266-42a4-aa27-fe5c1a4734a2"
      },
      "outputs": [
        {
          "output_type": "execute_result",
          "data": {
            "text/plain": [
              "['python', 'python']"
            ]
          },
          "metadata": {},
          "execution_count": 33
        }
      ],
      "source": [
        "# Do not RUN/MODIFY this cell. This tells you how your solution should look like"
      ]
    },
    {
      "cell_type": "markdown",
      "metadata": {
        "id": "zAp7hQb-nWpN"
      },
      "source": [
        "## Q6 Function and If-elif-else block - 3 Points\n",
        "You all are Pilots. You want to land a plane safely and the altitude required for landing a plane is 1000ft. If it is less than 1000 ft., tell(print) the pilot 'Safe to Land'. If its more than 1000 ft but less than 5000ft, tell (print) the pilot to “Bring down to 1000ft”, else if it more than 5000ft tell (print) the pilot to “Go around and try later”. The altitude is provided to you by the user (already added as the first line in function). \n",
        "\n"
      ]
    },
    {
      "cell_type": "code",
      "execution_count": null,
      "metadata": {
        "collapsed": true,
        "jupyter": {
          "outputs_hidden": true
        },
        "id": "-5qgNjW9nWpO"
      },
      "outputs": [],
      "source": [
        "def land_or_not():\n",
        "  altitude = int(input(\"Enter the altitude: \"))\n",
        "  if altitude < 1000:\n",
        "    print('Safe to Land')\n",
        "  elif altitude < 5000 and altitude >= 1000:\n",
        "    print('Bring down to 1000ft')\n",
        "  elif altitude >= 5000:\n",
        "    print('Go around and try later')"
      ]
    },
    {
      "cell_type": "code",
      "source": [
        "# Run this cell to check your solution. Try different input values\n",
        "land_or_not()"
      ],
      "metadata": {
        "id": "t6SOOo90z6qj",
        "colab": {
          "base_uri": "https://localhost:8080/"
        },
        "outputId": "2bdacc04-e349-41f4-b365-5ca0e8e291b8"
      },
      "execution_count": null,
      "outputs": [
        {
          "output_type": "stream",
          "name": "stdout",
          "text": [
            "Enter the altitude: 100\n",
            "Safe to Land\n"
          ]
        }
      ]
    },
    {
      "cell_type": "code",
      "source": [
        "# Do not RUN/MODIFY this cell. This tells you how your solution should look like.\n",
        "land_or_not()"
      ],
      "metadata": {
        "colab": {
          "base_uri": "https://localhost:8080/"
        },
        "id": "bT3ZxErwxIFt",
        "outputId": "dd95b924-b988-44d7-a05c-5dea8e267c2d"
      },
      "execution_count": null,
      "outputs": [
        {
          "output_type": "stream",
          "name": "stdout",
          "text": [
            "Enter the altitude: 100\n",
            "Safe to land\n"
          ]
        }
      ]
    },
    {
      "cell_type": "code",
      "source": [
        "# Do not RUN/MODIFY this cell. This tells you how your solution should look like.\n",
        "land_or_not()"
      ],
      "metadata": {
        "colab": {
          "base_uri": "https://localhost:8080/"
        },
        "id": "dVP_soT21P_h",
        "outputId": "6e37aa10-a293-49bf-f494-e1f491fd1d35"
      },
      "execution_count": null,
      "outputs": [
        {
          "output_type": "stream",
          "name": "stdout",
          "text": [
            "Enter the altitude: 1200\n",
            "Bring down to 1000 ft!\n"
          ]
        }
      ]
    },
    {
      "cell_type": "code",
      "source": [
        "# Do not RUN/MODIFY this cell. This tells you how your solution should look like.\n",
        "land_or_not()"
      ],
      "metadata": {
        "colab": {
          "base_uri": "https://localhost:8080/"
        },
        "id": "xgIolTQl1U5_",
        "outputId": "4067f52a-0982-44fb-c9a7-ee56c6b4d759"
      },
      "execution_count": null,
      "outputs": [
        {
          "output_type": "stream",
          "name": "stdout",
          "text": [
            "Enter the altitude: 30000\n",
            "Go around and try later\n"
          ]
        }
      ]
    }
  ],
  "metadata": {
    "kernelspec": {
      "display_name": "Python 3 (ipykernel)",
      "language": "python",
      "name": "python3"
    },
    "language_info": {
      "codemirror_mode": {
        "name": "ipython",
        "version": 3
      },
      "file_extension": ".py",
      "mimetype": "text/x-python",
      "name": "python",
      "nbconvert_exporter": "python",
      "pygments_lexer": "ipython3",
      "version": "3.9.13"
    },
    "colab": {
      "provenance": [],
      "collapsed_sections": [
        "vY0sAXv8nWpH",
        "_DQgig_rnWpJ",
        "C7BCqfIunWpK",
        "WcVd_hiHnWpK",
        "qsHCjwshnWpM"
      ],
      "include_colab_link": true
    }
  },
  "nbformat": 4,
  "nbformat_minor": 0
}